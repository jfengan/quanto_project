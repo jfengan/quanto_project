{
 "cells": [
  {
   "cell_type": "markdown",
   "id": "a6919ac4-1967-4f6b-993e-3db903594144",
   "metadata": {},
   "source": [
    "The payoff of the fixed fx rate quanto digital option should be like:\n",
    "\n",
    "$$\n",
    "payoff(S, T, K) = F_0 max(S - K, 0)\n",
    "$$\n",
    "\n",
    "where S and K are denominated in foreign currency\n",
    "\n",
    "Our goal is to find the mu and sigma for assets denominated in foreign currency under domestic risk neutral measure Qd\n",
    "\n",
    "For the very asset denominated in dom currency, because we let the fx rate be fixed, so that the correlation risk should be included into the drift term\n",
    "\n",
    "$$\n",
    "\\frac{dS_t}{S_t} = \\mu^d_{S} dt + \\sigma_SdW^d_S\n",
    "$$\n",
    "\n",
    "$$\n",
    "\\frac{dF_t}{F_t} = \\mu^d_{F} dt + \\sigma_FdW_F^d\n",
    "$$\n",
    "\n",
    "$$\n",
    "\\mu^d_{S^*} = \\mu^d_{FS} = \\mu^d_F + \\mu^d_S + \\rho \\sigma_F \\sigma_S\n",
    "$$\n",
    "\n",
    "$$\n",
    "\\mu^d_S = \\mu^d_{S^*} - \\mu^d_F - \\rho \\sigma_F \\sigma_S\n",
    "= r_f - q - \\rho \\sigma_F \\sigma_S\n",
    "$$\n",
    "\n",
    "The diffusion term will not be influenced since the asset is still denominated in foreign currency\n",
    "\n",
    "The risk-neutral probablity is adjusted w.r.t both exchange risk and correlation risk"
   ]
  },
  {
   "cell_type": "code",
   "execution_count": 1,
   "id": "031079e0-33a3-4761-988f-de02a8307c8a",
   "metadata": {},
   "outputs": [],
   "source": [
    "import math\n",
    "import numpy as np\n",
    "from BlackScholes import BlackScholes\n",
    "from digital_quanto_pricer import *\n",
    "from Simulator import Simulator"
   ]
  },
  {
   "cell_type": "code",
   "execution_count": 2,
   "id": "632281bc-0ff2-4523-a2db-0fd9c3d2d5df",
   "metadata": {},
   "outputs": [],
   "source": [
    "spot = 106.6\n",
    "strike = 110   # demoninated in the domestic currency\n",
    "tau = 0.3\n",
    "q = 0.\n",
    "rd = 0.04\n",
    "rf = 0.05\n",
    "sigma_s = 0.4\n",
    "sigma_f = 0.1\n",
    "rho = 0.2\n",
    "quanto_factor = 4"
   ]
  },
  {
   "cell_type": "code",
   "execution_count": null,
   "id": "e6b08b2a-5bf4-4ccc-942d-2b8115a8fef9",
   "metadata": {},
   "outputs": [],
   "source": []
  },
  {
   "cell_type": "markdown",
   "id": "d7aaf16c-de65-4996-a9f7-1fb439e10be3",
   "metadata": {},
   "source": [
    "### Analytical Solution of Fixed FX Strike Quanto Digital"
   ]
  },
  {
   "cell_type": "code",
   "execution_count": 3,
   "id": "245cf424-f534-4ce5-9ec4-1cc97caa66a6",
   "metadata": {},
   "outputs": [
    {
     "data": {
      "text/plain": [
       "1.665088941855884"
      ]
     },
     "execution_count": 3,
     "metadata": {},
     "output_type": "execute_result"
    }
   ],
   "source": [
    "call = FixedFXStrikeDigitalQuantoCall(rd, q, rf, sigma_s, sigma_f, rho, tau, spot, strike, quanto_factor)\n",
    "call.price()"
   ]
  },
  {
   "cell_type": "code",
   "execution_count": null,
   "id": "20076f1f-2ec6-40ca-93d4-3bfcff252927",
   "metadata": {},
   "outputs": [],
   "source": []
  },
  {
   "cell_type": "markdown",
   "id": "10c5e15b-980c-4d8b-baa4-88383f64e262",
   "metadata": {},
   "source": [
    "### Monte Carlo Process"
   ]
  },
  {
   "cell_type": "code",
   "execution_count": 4,
   "id": "08fdac45-daf9-45ce-a711-79b68ed53c3f",
   "metadata": {},
   "outputs": [],
   "source": [
    "time_steps = 1500\n",
    "dt = tau / time_steps\n",
    "num_paths = 100000"
   ]
  },
  {
   "cell_type": "code",
   "execution_count": 5,
   "id": "83f0e331-03af-4f35-879a-15ab68f7cccb",
   "metadata": {},
   "outputs": [],
   "source": [
    "mu = rf - q - rho * sigma_s * sigma_f\n",
    "sigma = sigma_s"
   ]
  },
  {
   "cell_type": "code",
   "execution_count": 6,
   "id": "01ef9707-c68c-4100-a55b-3cf0247b65e4",
   "metadata": {},
   "outputs": [
    {
     "name": "stdout",
     "output_type": "stream",
     "text": [
      "CPU times: user 12.1 s, sys: 6.28 s, total: 18.4 s\n",
      "Wall time: 17 s\n"
     ]
    }
   ],
   "source": [
    "%%time\n",
    "payoffs = Simulator.simulate_sobol(spot, mu, q, sigma, dt, num_paths, time_steps)"
   ]
  },
  {
   "cell_type": "code",
   "execution_count": 7,
   "id": "eb2efed8-a410-4bb9-8d6e-6db0a3157202",
   "metadata": {},
   "outputs": [
    {
     "data": {
      "text/plain": [
       "1.6651150092722646"
      ]
     },
     "execution_count": 7,
     "metadata": {},
     "output_type": "execute_result"
    }
   ],
   "source": [
    "x = [1 if payoff[-1] > strike else 0 for payoff in payoffs]\n",
    "quanto_factor * np.mean(x) * math.exp(-rf * tau)"
   ]
  },
  {
   "cell_type": "markdown",
   "id": "4bcc6e9b-6ade-4ee1-b06f-600162f538f4",
   "metadata": {},
   "source": [
    "### Validation for put option"
   ]
  },
  {
   "cell_type": "code",
   "execution_count": 9,
   "id": "d23be908-c749-46fb-9b03-54ba9b231a4e",
   "metadata": {},
   "outputs": [
    {
     "data": {
      "text/plain": [
       "2.282195142367509"
      ]
     },
     "execution_count": 9,
     "metadata": {},
     "output_type": "execute_result"
    }
   ],
   "source": [
    "put = FixedFXStrikeDigitalQuantoPut(rd, q, rf, sigma_s, sigma_f, rho, tau, spot, strike, quanto_factor)\n",
    "put.price()"
   ]
  },
  {
   "cell_type": "code",
   "execution_count": 10,
   "id": "457bddac-5e0a-45f9-8424-707faa997ddb",
   "metadata": {},
   "outputs": [
    {
     "data": {
      "text/plain": [
       "2.2753327491399857"
      ]
     },
     "execution_count": 10,
     "metadata": {},
     "output_type": "execute_result"
    }
   ],
   "source": [
    "quanto_factor * (1 - np.mean(x)) * math.exp(-rf * tau)"
   ]
  },
  {
   "cell_type": "code",
   "execution_count": null,
   "id": "d2c56cc4-a201-4c07-a6fb-4f46ed5a293f",
   "metadata": {},
   "outputs": [],
   "source": []
  }
 ],
 "metadata": {
  "kernelspec": {
   "display_name": "Python 3 (ipykernel)",
   "language": "python",
   "name": "python3"
  },
  "language_info": {
   "codemirror_mode": {
    "name": "ipython",
    "version": 3
   },
   "file_extension": ".py",
   "mimetype": "text/x-python",
   "name": "python",
   "nbconvert_exporter": "python",
   "pygments_lexer": "ipython3",
   "version": "3.7.11"
  }
 },
 "nbformat": 4,
 "nbformat_minor": 5
}
