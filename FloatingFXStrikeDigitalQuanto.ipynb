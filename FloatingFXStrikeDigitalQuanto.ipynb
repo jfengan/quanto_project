{
 "cells": [
  {
   "cell_type": "markdown",
   "id": "30066961-817b-4c0d-b182-0c54da6f24b4",
   "metadata": {},
   "source": [
    "### Floating FX-Strike Digital Quanto: \n",
    "$$\n",
    "c(S, F, T) = F_{T} * Digital(max(S - K, 0))\n",
    "$$\n",
    "\n",
    "The payoff could be regarded as a vanilla digital quanto option with a forward rate agreement(with price 0￥), which is used to convert the fx into dom ccy at time T\n",
    "\n",
    "So that the floating fx-strike digital quanto is free of exchange risk and correlation risk\n",
    "\n",
    "$$\n",
    "c(S, F, 0) = E[Digital(c(S, F, T))] = F_{0} * Digital(max(S - K, 0)) = F_{0} * N(d2)\n",
    "$$\n",
    "\n",
    "The calculation of d2 is totally under fx asset measure, there's no quanto adjustment to the risk-neutral probability"
   ]
  },
  {
   "cell_type": "code",
   "execution_count": 1,
   "id": "92925ffa-5204-4580-9f04-5805bb66cbcd",
   "metadata": {},
   "outputs": [],
   "source": [
    "import math\n",
    "import numpy as np\n",
    "from BlackScholes import BlackScholes\n",
    "from digital_quanto_pricer import *\n",
    "from Simulator import Simulator"
   ]
  },
  {
   "cell_type": "code",
   "execution_count": 2,
   "id": "f74999c9-312c-42fb-8f37-f5e3a5529c0f",
   "metadata": {},
   "outputs": [],
   "source": [
    "spot = 106.6\n",
    "strike = 110.\n",
    "tau = 0.3\n",
    "q = 0.\n",
    "rs = 0.04\n",
    "rf = 0.05\n",
    "sigma_s = 0.4\n",
    "sigma_f = 0.08\n",
    "rho = -0.1\n",
    "quanto_factor = 4"
   ]
  },
  {
   "cell_type": "code",
   "execution_count": 4,
   "id": "945d36f9-85fe-4850-ac16-007ee25076a0",
   "metadata": {},
   "outputs": [],
   "source": [
    "time_steps = 1500\n",
    "dt = tau / time_steps\n",
    "num_paths = 300000"
   ]
  },
  {
   "cell_type": "markdown",
   "id": "921bba5d-e079-49a1-abba-fbb79890178a",
   "metadata": {
    "tags": []
   },
   "source": [
    "## Sanity Check using Pseudo Random Number\n",
    "### vanilla option"
   ]
  },
  {
   "cell_type": "code",
   "execution_count": 5,
   "id": "5fd2d632-b5e1-40cc-aebb-6ae75ab21f7a",
   "metadata": {},
   "outputs": [
    {
     "name": "stdout",
     "output_type": "stream",
     "text": [
      "CPU times: user 15.2 s, sys: 17.9 s, total: 33.1 s\n",
      "Wall time: 47.5 s\n"
     ]
    }
   ],
   "source": [
    "%%time\n",
    "# payoffs = spot * np.exp(np.cumsum((rf - q - 0.5 * sigma_s ** 2) * dt + sigma_s * math.sqrt(dt) * np.random.standard_normal((time_steps, num_paths)), axis=0))\n",
    "payoffs = Simulator.simulate_pseudo(spot, rf, q, sigma_s, dt, num_paths, time_steps)"
   ]
  },
  {
   "cell_type": "code",
   "execution_count": 6,
   "id": "95d35aef-624a-480f-b5f5-4a5acc215d91",
   "metadata": {},
   "outputs": [
    {
     "data": {
      "text/plain": [
       "8.535256994136093"
      ]
     },
     "execution_count": 6,
     "metadata": {},
     "output_type": "execute_result"
    }
   ],
   "source": [
    "x = [payoff[-1] for payoff in payoffs]\n",
    "x = [max(0, item - strike) for item in x]\n",
    "np.mean(x) * np.exp(-rf * tau)"
   ]
  },
  {
   "cell_type": "code",
   "execution_count": 7,
   "id": "0cb2b5c6-e66a-48f3-9914-df972a84a543",
   "metadata": {},
   "outputs": [],
   "source": [
    "opt = BlackScholes(spot, strike, rf, q, sigma_s, tau, BlackScholes.TAG_CALL)"
   ]
  },
  {
   "cell_type": "code",
   "execution_count": 8,
   "id": "91b032a2-4b82-438c-9668-cede32212f22",
   "metadata": {},
   "outputs": [
    {
     "data": {
      "text/plain": [
       "8.520497276304305"
      ]
     },
     "execution_count": 8,
     "metadata": {},
     "output_type": "execute_result"
    }
   ],
   "source": [
    "opt.price()"
   ]
  },
  {
   "cell_type": "code",
   "execution_count": 9,
   "id": "d51e28d3-5da0-4905-9923-3f9d5f5b5177",
   "metadata": {},
   "outputs": [
    {
     "data": {
      "text/plain": [
       "0.42050044479801657"
      ]
     },
     "execution_count": 9,
     "metadata": {},
     "output_type": "execute_result"
    }
   ],
   "source": [
    "opt.n_d2 * math.exp(-rf * tau)"
   ]
  },
  {
   "cell_type": "markdown",
   "id": "462caf5f-07b2-47a2-bdb2-be45c4c74098",
   "metadata": {},
   "source": [
    "### Floating rate quanto for call option:"
   ]
  },
  {
   "cell_type": "code",
   "execution_count": 10,
   "id": "0319d118-ab84-4067-a5ec-d6caa06875f2",
   "metadata": {},
   "outputs": [
    {
     "data": {
      "text/plain": [
       "0.42050044479801657"
      ]
     },
     "execution_count": 10,
     "metadata": {},
     "output_type": "execute_result"
    }
   ],
   "source": [
    "FloatingFXDigitalQuantoCall(rs, q, rf, sigma_s, sigma_f, rho, tau, spot, strike, 4).fx_price()"
   ]
  },
  {
   "cell_type": "code",
   "execution_count": 11,
   "id": "2f4f803c-2ea0-4ed1-98a6-48e89fc7be79",
   "metadata": {},
   "outputs": [
    {
     "data": {
      "text/plain": [
       "0.42712666666666665"
      ]
     },
     "execution_count": 11,
     "metadata": {},
     "output_type": "execute_result"
    }
   ],
   "source": [
    "x = [1 if item > 0 else 0 for item in x]\n",
    "np.mean(x)"
   ]
  },
  {
   "cell_type": "code",
   "execution_count": null,
   "id": "70f4efb5-1e0a-4e5e-b824-256be717443d",
   "metadata": {},
   "outputs": [],
   "source": [
    " "
   ]
  },
  {
   "cell_type": "markdown",
   "id": "33b1b35d-82fa-4649-98d8-fc512f3fe96d",
   "metadata": {},
   "source": [
    "## Sanity Check using Sobol Random Number\n",
    "### vanilla option"
   ]
  },
  {
   "cell_type": "code",
   "execution_count": 12,
   "id": "eb8a273b-7fce-4eab-a89c-d13ca8016511",
   "metadata": {},
   "outputs": [
    {
     "name": "stdout",
     "output_type": "stream",
     "text": [
      "CPU times: user 40.2 s, sys: 49.6 s, total: 1min 29s\n",
      "Wall time: 1min 48s\n"
     ]
    }
   ],
   "source": [
    "%%time\n",
    "payoffs = Simulator.simulate_sobol(spot, rf, q, sigma_s, dt, num_paths, time_steps)"
   ]
  },
  {
   "cell_type": "code",
   "execution_count": 13,
   "id": "d7f4cb43-f2fc-4020-b29e-a02996424c54",
   "metadata": {},
   "outputs": [
    {
     "data": {
      "text/plain": [
       "8.528007608266323"
      ]
     },
     "execution_count": 13,
     "metadata": {},
     "output_type": "execute_result"
    }
   ],
   "source": [
    "x = [payoff[-1] for payoff in payoffs]\n",
    "x = [max(0, item - strike) for item in x]\n",
    "np.mean(x) * np.exp(-rf * tau)"
   ]
  },
  {
   "cell_type": "code",
   "execution_count": 14,
   "id": "6319a344-409e-458f-86c7-c624cb7ea903",
   "metadata": {},
   "outputs": [],
   "source": [
    "opt = BlackScholes(spot, strike, rf, q, sigma_s, tau, BlackScholes.TAG_CALL)"
   ]
  },
  {
   "cell_type": "code",
   "execution_count": 15,
   "id": "add27c30-a466-451e-a51c-9c288a173b30",
   "metadata": {},
   "outputs": [
    {
     "data": {
      "text/plain": [
       "8.520497276304305"
      ]
     },
     "execution_count": 15,
     "metadata": {},
     "output_type": "execute_result"
    }
   ],
   "source": [
    "opt.price()"
   ]
  },
  {
   "cell_type": "code",
   "execution_count": 16,
   "id": "6e896551-13b3-4b36-b12c-36ebd89e41ea",
   "metadata": {},
   "outputs": [
    {
     "data": {
      "text/plain": [
       "0.42050044479801657"
      ]
     },
     "execution_count": 16,
     "metadata": {},
     "output_type": "execute_result"
    }
   ],
   "source": [
    "opt.n_d2 * math.exp(-rf * tau)"
   ]
  },
  {
   "cell_type": "markdown",
   "id": "94d77e89-8086-45bd-b782-b2ecb172c993",
   "metadata": {},
   "source": [
    "### Floating Rate Digital Quanto Call:\n",
    "#### Denominated in fx price (vanilla digital)"
   ]
  },
  {
   "cell_type": "code",
   "execution_count": 17,
   "id": "33bd36e3-fe08-4b41-8524-43f509d4104f",
   "metadata": {},
   "outputs": [
    {
     "data": {
      "text/plain": [
       "0.42050044479801657"
      ]
     },
     "execution_count": 17,
     "metadata": {},
     "output_type": "execute_result"
    }
   ],
   "source": [
    "FloatingFXDigitalQuantoCall(rs, q, rf, sigma_s, sigma_f, rho, tau, spot, strike, 4).fx_price()"
   ]
  },
  {
   "cell_type": "code",
   "execution_count": 19,
   "id": "151d2681-da26-4c12-bbc9-87edd4a868f3",
   "metadata": {},
   "outputs": [
    {
     "data": {
      "text/plain": [
       "0.41990396425580545"
      ]
     },
     "execution_count": 19,
     "metadata": {},
     "output_type": "execute_result"
    }
   ],
   "source": [
    "x = [1 if item > 0 else 0 for item in x]\n",
    "np.mean(x) * math.exp(-rf * tau)"
   ]
  },
  {
   "cell_type": "code",
   "execution_count": null,
   "id": "bcaa5b6f-8c91-4196-bab2-39a6fae33213",
   "metadata": {},
   "outputs": [],
   "source": []
  },
  {
   "cell_type": "markdown",
   "id": "4d2ed76e-8c42-497e-bf4a-899f3b0a7a53",
   "metadata": {},
   "source": [
    "### Floating Rate Digital Quanto Put:\n",
    "#### Denominated in fx price (vanilla digital):"
   ]
  },
  {
   "cell_type": "code",
   "execution_count": 20,
   "id": "19880a24-f773-4216-9cfc-26cafca42673",
   "metadata": {},
   "outputs": [
    {
     "data": {
      "text/plain": [
       "0.564611494805046"
      ]
     },
     "execution_count": 20,
     "metadata": {},
     "output_type": "execute_result"
    }
   ],
   "source": [
    "FloatingFXDigitalQuantoPut(rs, q, rf, sigma_s, sigma_f, rho, tau, spot, strike, 4).fx_price()"
   ]
  },
  {
   "cell_type": "code",
   "execution_count": 21,
   "id": "cba43e26-0e97-48fe-82d0-d072d64b9a4d",
   "metadata": {},
   "outputs": [
    {
     "data": {
      "text/plain": [
       "0.5652079753472572"
      ]
     },
     "execution_count": 21,
     "metadata": {},
     "output_type": "execute_result"
    }
   ],
   "source": [
    "math.exp(-rf * tau) * (1 - np.mean(x))"
   ]
  },
  {
   "cell_type": "code",
   "execution_count": null,
   "id": "f3add240-1129-4024-bb7a-9f157a043d82",
   "metadata": {},
   "outputs": [],
   "source": []
  }
 ],
 "metadata": {
  "kernelspec": {
   "display_name": "Python 3 (ipykernel)",
   "language": "python",
   "name": "python3"
  },
  "language_info": {
   "codemirror_mode": {
    "name": "ipython",
    "version": 3
   },
   "file_extension": ".py",
   "mimetype": "text/x-python",
   "name": "python",
   "nbconvert_exporter": "python",
   "pygments_lexer": "ipython3",
   "version": "3.7.11"
  }
 },
 "nbformat": 4,
 "nbformat_minor": 5
}
