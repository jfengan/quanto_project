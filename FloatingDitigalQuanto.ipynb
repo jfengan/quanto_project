{
 "cells": [
  {
   "cell_type": "code",
   "execution_count": 11,
   "id": "9ae9ba03-63bd-4a73-82a6-7be278f319f3",
   "metadata": {},
   "outputs": [],
   "source": [
    "\n",
    "import math\n",
    "import numpy as np\n",
    "from BlackScholes import BlackScholes"
   ]
  },
  {
   "cell_type": "code",
   "execution_count": 12,
   "id": "f74999c9-312c-42fb-8f37-f5e3a5529c0f",
   "metadata": {},
   "outputs": [],
   "source": [
    "spot = 106\n",
    "strike = 110\n",
    "tau = 0.5\n",
    "q = 0.\n",
    "rs = 0.04\n",
    "rf = 0.05\n",
    "sigma_s = 0.4\n",
    "sigma_f = 0.08\n",
    "rho = -0.1"
   ]
  },
  {
   "cell_type": "code",
   "execution_count": 13,
   "id": "945d36f9-85fe-4850-ac16-007ee25076a0",
   "metadata": {},
   "outputs": [],
   "source": [
    "time_steps = 2000\n",
    "dt = tau / time_steps\n",
    "num_paths = 400000"
   ]
  },
  {
   "cell_type": "markdown",
   "id": "921bba5d-e079-49a1-abba-fbb79890178a",
   "metadata": {
    "tags": []
   },
   "source": [
    "### sanity check\n",
    "#### vanilla option"
   ]
  },
  {
   "cell_type": "code",
   "execution_count": 14,
   "id": "5fd2d632-b5e1-40cc-aebb-6ae75ab21f7a",
   "metadata": {},
   "outputs": [
    {
     "name": "stdout",
     "output_type": "stream",
     "text": [
      "CPU times: user 56.1 s, sys: 27.7 s, total: 1min 23s\n",
      "Wall time: 1min 46s\n"
     ]
    }
   ],
   "source": [
    "%%time\n",
    "payoffs = spot * np.exp(np.cumsum((rs - q - 0.5 * sigma_s ** 2) * dt + sigma_s * math.sqrt(dt) * np.random.standard_normal((time_steps, num_paths)), axis=0))"
   ]
  },
  {
   "cell_type": "code",
   "execution_count": 15,
   "id": "95d35aef-624a-480f-b5f5-4a5acc215d91",
   "metadata": {},
   "outputs": [
    {
     "data": {
      "text/plain": [
       "11.128168919740613"
      ]
     },
     "execution_count": 15,
     "metadata": {},
     "output_type": "execute_result"
    }
   ],
   "source": [
    "x = list(payoffs[-1, :])\n",
    "x = [max(0, item - strike) for item in x]\n",
    "np.mean(x) * np.exp(-rs * tau)"
   ]
  },
  {
   "cell_type": "code",
   "execution_count": 16,
   "id": "0cb2b5c6-e66a-48f3-9914-df972a84a543",
   "metadata": {},
   "outputs": [
    {
     "data": {
      "text/plain": [
       "11.13425831638088"
      ]
     },
     "execution_count": 16,
     "metadata": {},
     "output_type": "execute_result"
    }
   ],
   "source": [
    "BlackScholes(spot, strike, rs, q, sigma_s, tau, BlackScholes.TAG_CALL).price()"
   ]
  },
  {
   "cell_type": "code",
   "execution_count": 17,
   "id": "17bd2646-f5c2-4d78-b99b-56ad0fa7ecba",
   "metadata": {},
   "outputs": [
    {
     "data": {
      "text/plain": [
       "0.03244795982373042"
      ]
     },
     "execution_count": 17,
     "metadata": {},
     "output_type": "execute_result"
    }
   ],
   "source": [
    "np.std(x) / np.sqrt(num_paths)"
   ]
  },
  {
   "cell_type": "markdown",
   "id": "462caf5f-07b2-47a2-bdb2-be45c4c74098",
   "metadata": {},
   "source": [
    "### Floating rate quanto:"
   ]
  },
  {
   "cell_type": "code",
   "execution_count": 8,
   "id": "d8b461f2-7194-4f3b-b5eb-0f2797e7f837",
   "metadata": {},
   "outputs": [],
   "source": [
    "from digital_quanto import *"
   ]
  },
  {
   "cell_type": "code",
   "execution_count": 9,
   "id": "0319d118-ab84-4067-a5ec-d6caa06875f2",
   "metadata": {},
   "outputs": [
    {
     "data": {
      "text/plain": [
       "0.409714850046293"
      ]
     },
     "execution_count": 9,
     "metadata": {},
     "output_type": "execute_result"
    }
   ],
   "source": [
    "FloatingFXDigitalQuantoCall(rs, q, rf, sigma_s, sigma_f, rho, tau, spot, strike, \"\").price()"
   ]
  },
  {
   "cell_type": "code",
   "execution_count": 10,
   "id": "2f4f803c-2ea0-4ed1-98a6-48e89fc7be79",
   "metadata": {},
   "outputs": [
    {
     "data": {
      "text/plain": [
       "0.4097862126378242"
      ]
     },
     "execution_count": 10,
     "metadata": {},
     "output_type": "execute_result"
    }
   ],
   "source": [
    "x = list(payoffs[-1, :])\n",
    "x = len(np.where(payoffs[-1, :] > strike)[0]) / num_paths\n",
    "np.mean(x) * np.exp(-rf * tau)"
   ]
  },
  {
   "cell_type": "code",
   "execution_count": null,
   "id": "70f4efb5-1e0a-4e5e-b824-256be717443d",
   "metadata": {},
   "outputs": [],
   "source": []
  }
 ],
 "metadata": {
  "kernelspec": {
   "display_name": "Python 3 (ipykernel)",
   "language": "python",
   "name": "python3"
  },
  "language_info": {
   "codemirror_mode": {
    "name": "ipython",
    "version": 3
   },
   "file_extension": ".py",
   "mimetype": "text/x-python",
   "name": "python",
   "nbconvert_exporter": "python",
   "pygments_lexer": "ipython3",
   "version": "3.7.11"
  }
 },
 "nbformat": 4,
 "nbformat_minor": 5
}
