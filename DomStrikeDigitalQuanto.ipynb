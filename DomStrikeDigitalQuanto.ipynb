{
 "cells": [
  {
   "cell_type": "markdown",
   "id": "2e5891c0-5f94-4e67-8036-5806107dba48",
   "metadata": {},
   "source": [
    "The drift term of the price process would be:\n",
    "\n",
    "$$\\mu_{S^*} = r_d - q_d = r_d - q$$\n",
    "\n",
    "S* --> fx asset dominated in domestic ccy\n",
    "\n",
    "$$\n",
    "\\sigma_{S^*}^2 = \\sigma_{S*F}^2 = \\sigma_{S} ^ 2 + \\sigma_{F} ^ 2 + 2 * \\rho * \\sigma_{S} * \\sigma_{F}\n",
    "$$\n",
    "\n",
    "So the price should be like: \n",
    "$$\n",
    "c(S^*, T, K_d) = max(S^* - K_d, 0)\n",
    "$$\n",
    "\n",
    "$$\n",
    "c(S^*, T, K_d) = e^{-r_d  \\tau} * N(d_2)\n",
    "$$\n",
    "where: \n",
    "$$\n",
    "d_1 = \\frac{\\log{\\frac{S^*}{X_d}} + (\\mu^d_{S^*} + \\frac{\\sigma_{S^*}}{2})  \\tau}{\\sigma_{S^*} \\sqrt{\\tau}}\n",
    "$$\n",
    "\n",
    "$$\n",
    "d_2 = d_1 - \\sigma_{S^*}  \\sqrt{\\tau}\n",
    "$$\n",
    "\n",
    "The risk-neutral probability is adjusted w.r.t the correlation risk, and since no fx denominated asset is involved in the price process, so rf is not involved in the analytical solution"
   ]
  },
  {
   "cell_type": "code",
   "execution_count": 1,
   "id": "5c72aedf-d14c-4ca6-8968-f021a20ccfcb",
   "metadata": {},
   "outputs": [],
   "source": [
    "import math\n",
    "import numpy as np\n",
    "from BlackScholes import BlackScholes\n",
    "from digital_quanto_pricer import *\n",
    "from Simulator import Simulator"
   ]
  },
  {
   "cell_type": "code",
   "execution_count": 2,
   "id": "52098e5f-5153-4361-88bf-7d3eb761f164",
   "metadata": {},
   "outputs": [],
   "source": [
    "spot = 106.6\n",
    "strike = 28   # demoninated in the domestic currency\n",
    "tau = 0.3\n",
    "q = 0.\n",
    "rd = 0.04\n",
    "rf = 0.05\n",
    "sigma_s = 0.4\n",
    "sigma_f = 0.1\n",
    "rho = 0.2\n",
    "quanto_factor = 1/4"
   ]
  },
  {
   "cell_type": "code",
   "execution_count": 3,
   "id": "e4b8240d-3f3f-45bb-96cc-754398093cfa",
   "metadata": {},
   "outputs": [],
   "source": [
    "mu = rd - q\n",
    "sigma = math.sqrt(sigma_s ** 2 + sigma_f ** 2 + 2 * rho * sigma_s * sigma_f)\n",
    "s_star = spot * quanto_factor"
   ]
  },
  {
   "cell_type": "code",
   "execution_count": null,
   "id": "22e723a6-9857-4696-a278-72afe339e53c",
   "metadata": {},
   "outputs": [],
   "source": []
  },
  {
   "cell_type": "markdown",
   "id": "2a0c1f26-365c-4c74-8094-55b2f4837841",
   "metadata": {},
   "source": [
    "### Analytical Solution of the Dom-Strike digital quanto call"
   ]
  },
  {
   "cell_type": "code",
   "execution_count": 4,
   "id": "2ce135dc-1d21-4319-86c3-2b3ef7e42ac5",
   "metadata": {},
   "outputs": [],
   "source": [
    "call = FloatingDomStrikeDigitalQuantoCall(rd, q, rf, sigma_s, sigma_f, rho, tau, spot, strike, quanto_factor)"
   ]
  },
  {
   "cell_type": "code",
   "execution_count": 5,
   "id": "f14aa912-543f-42b8-b68d-ebbdbd618d86",
   "metadata": {},
   "outputs": [
    {
     "data": {
      "text/plain": [
       "0.38641634543503556"
      ]
     },
     "execution_count": 5,
     "metadata": {},
     "output_type": "execute_result"
    }
   ],
   "source": [
    "call.price()"
   ]
  },
  {
   "cell_type": "code",
   "execution_count": null,
   "id": "202a5e64-18b3-49ba-9e8e-cc8e3350e361",
   "metadata": {},
   "outputs": [],
   "source": []
  },
  {
   "cell_type": "markdown",
   "id": "961442b6-4f06-4a38-b835-eb56f926a9b9",
   "metadata": {},
   "source": [
    "### Monte Carlo Process"
   ]
  },
  {
   "cell_type": "code",
   "execution_count": 6,
   "id": "f3e2b155-4bdd-4878-ab9a-b084dacca7e8",
   "metadata": {},
   "outputs": [],
   "source": [
    "time_steps = 1500\n",
    "dt = tau / time_steps\n",
    "num_paths = 300000"
   ]
  },
  {
   "cell_type": "code",
   "execution_count": 7,
   "id": "93d2f83a-a90e-490b-bf2f-3bec1af7d3a3",
   "metadata": {},
   "outputs": [
    {
     "name": "stdout",
     "output_type": "stream",
     "text": [
      "CPU times: user 44.5 s, sys: 57.5 s, total: 1min 42s\n",
      "Wall time: 2min 18s\n"
     ]
    }
   ],
   "source": [
    "%%time\n",
    "payoffs = Simulator.simulate_sobol(s_star, mu, q, sigma, dt, num_paths, time_steps)"
   ]
  },
  {
   "cell_type": "code",
   "execution_count": 8,
   "id": "7a0fad40-ddad-472c-b158-4a09f13d16a8",
   "metadata": {},
   "outputs": [
    {
     "data": {
      "text/plain": [
       "0.3863722690251531"
      ]
     },
     "execution_count": 8,
     "metadata": {},
     "output_type": "execute_result"
    }
   ],
   "source": [
    "x = [1 if payoff[-1]>strike else 0 for payoff in payoffs]\n",
    "np.mean(x) * math.exp(-rd * tau)"
   ]
  },
  {
   "cell_type": "code",
   "execution_count": null,
   "id": "c9109b2e-5da0-45a0-b2c9-8fa199c04081",
   "metadata": {},
   "outputs": [],
   "source": []
  },
  {
   "cell_type": "markdown",
   "id": "518ade23-df0d-42e0-990a-ee0397ab26be",
   "metadata": {},
   "source": [
    "### Validation for digital put"
   ]
  },
  {
   "cell_type": "code",
   "execution_count": 9,
   "id": "a795aa4a-89fb-4916-8726-cf7cdc2095dc",
   "metadata": {},
   "outputs": [
    {
     "data": {
      "text/plain": [
       "0.6016553674268948"
      ]
     },
     "execution_count": 10,
     "metadata": {},
     "output_type": "execute_result"
    }
   ],
   "source": [
    "put = FloatingDomStrikeQuantoDigitalPut(rd, q, rf, sigma_s, sigma_f, rho, tau, spot, strike, quanto_factor)\n",
    "put.price()"
   ]
  },
  {
   "cell_type": "code",
   "execution_count": null,
   "id": "7a15399c-1325-4d05-900e-42ba9dad6b2c",
   "metadata": {},
   "outputs": [
    {
     "data": {
      "text/plain": [
       "0.6016994438367774"
      ]
     },
     "execution_count": 11,
     "metadata": {},
     "output_type": "execute_result"
    }
   ],
   "source": [
    "math.exp(-rd * tau) * (1 - np.mean(x))"
   ]
  },
  {
   "cell_type": "code",
   "execution_count": null,
   "id": "7332a3ad-1cd0-4e30-9836-68005463e6b3",
   "metadata": {},
   "outputs": [],
   "source": []
  }
 ],
 "metadata": {
  "kernelspec": {
   "display_name": "Python 3 (ipykernel)",
   "language": "python",
   "name": "python3"
  },
  "language_info": {
   "codemirror_mode": {
    "name": "ipython",
    "version": 3
   },
   "file_extension": ".py",
   "mimetype": "text/x-python",
   "name": "python",
   "nbconvert_exporter": "python",
   "pygments_lexer": "ipython3",
   "version": "3.7.11"
  }
 },
 "nbformat": 4,
 "nbformat_minor": 5
}
